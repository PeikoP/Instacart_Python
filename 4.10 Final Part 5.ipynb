{
 "cells": [
  {
   "cell_type": "markdown",
   "id": "076ff4bd",
   "metadata": {},
   "source": [
    "# Importing Libraries and Setup"
   ]
  },
  {
   "cell_type": "markdown",
   "id": "2a49bb1d",
   "metadata": {},
   "source": [
    "Note: A continuation of making charts for the interim report"
   ]
  },
  {
   "cell_type": "code",
   "execution_count": 1,
   "id": "cccf39de",
   "metadata": {},
   "outputs": [],
   "source": [
    "# importing libraries\n",
    "import pandas as pd\n",
    "import numpy as np\n",
    "import os\n",
    "import matplotlib.pyplot as plt\n",
    "import seaborn as sns\n",
    "import scipy"
   ]
  },
  {
   "cell_type": "code",
   "execution_count": 2,
   "id": "58deae78",
   "metadata": {},
   "outputs": [],
   "source": [
    "# creating path variable\n",
    "path = r'/Users/paigepearson/Desktop/Data Analytics/Immersion Course/Achievement 4/Instacart Basket Analysis'"
   ]
  },
  {
   "cell_type": "code",
   "execution_count": 3,
   "id": "e43fd620",
   "metadata": {},
   "outputs": [],
   "source": [
    "# importing most recently updated and merged dataframe\n",
    "df_instacart = pd.read_pickle(os.path.join(path, 'Data', 'Prepared Data', 'instacart_merged.pkl'))"
   ]
  },
  {
   "cell_type": "code",
   "execution_count": 4,
   "id": "bda6d1b0",
   "metadata": {},
   "outputs": [],
   "source": [
    "# allowing all columns to be seen\n",
    "pd.set_option('display.max_columns', None)"
   ]
  },
  {
   "cell_type": "markdown",
   "id": "71a2c70f",
   "metadata": {},
   "source": [
    "## Creating Charts - Continued"
   ]
  },
  {
   "cell_type": "markdown",
   "id": "243b854f",
   "metadata": {},
   "source": [
    "Note: Continuing to create and edit charts needed for interim report."
   ]
  },
  {
   "cell_type": "code",
   "execution_count": 5,
   "id": "3612f37e",
   "metadata": {},
   "outputs": [
    {
     "data": {
      "text/plain": [
       "21.0         8\n",
       "18.3        11\n",
       "21.5        85\n",
       "22.7        99\n",
       "20.2       123\n",
       "         ...  \n",
       "1.3     425691\n",
       "6.3     438467\n",
       "4.0     447272\n",
       "10.3    510496\n",
       "12.3    624261\n",
       "Name: prices, Length: 241, dtype: int64"
      ]
     },
     "execution_count": 5,
     "metadata": {},
     "output_type": "execute_result"
    }
   ],
   "source": [
    "# checking values for upcoming prices chart\n",
    "df_instacart['prices'].value_counts(dropna = False).sort_values()"
   ]
  },
  {
   "cell_type": "code",
   "execution_count": 6,
   "id": "8b48c06a",
   "metadata": {},
   "outputs": [
    {
     "data": {
      "text/plain": [
       "count    3.239973e+07\n",
       "mean     7.790994e+00\n",
       "std      4.241809e+00\n",
       "min      1.000000e+00\n",
       "25%      4.200000e+00\n",
       "50%      7.400000e+00\n",
       "75%      1.130000e+01\n",
       "max      2.500000e+01\n",
       "Name: prices, dtype: float64"
      ]
     },
     "execution_count": 6,
     "metadata": {},
     "output_type": "execute_result"
    }
   ],
   "source": [
    "#checking for irregularities to make sure I am using the correct dataframe that does not have past pricing annomalies.\n",
    "df_instacart['prices'].describe()"
   ]
  },
  {
   "cell_type": "code",
   "execution_count": 8,
   "id": "5a2667df",
   "metadata": {},
   "outputs": [
    {
     "data": {
      "text/plain": [
       "([<matplotlib.axis.YTick at 0x7fa4ad625ea0>,\n",
       "  <matplotlib.axis.YTick at 0x7fa4ad625960>,\n",
       "  <matplotlib.axis.YTick at 0x7fa4ad624970>,\n",
       "  <matplotlib.axis.YTick at 0x7fa44d76bd90>,\n",
       "  <matplotlib.axis.YTick at 0x7fa44d76a320>,\n",
       "  <matplotlib.axis.YTick at 0x7fa44d7906d0>,\n",
       "  <matplotlib.axis.YTick at 0x7fa44d791180>],\n",
       " [Text(0, 0, '0'),\n",
       "  Text(0, 500000, '0.5 mil'),\n",
       "  Text(0, 1000000, '1 mil'),\n",
       "  Text(0, 1500000, '1.5 mil'),\n",
       "  Text(0, 2000000, '2 mil'),\n",
       "  Text(0, 2500000, '2.5 mil'),\n",
       "  Text(0, 3000000, '3 mil')])"
      ]
     },
     "execution_count": 8,
     "metadata": {},
     "output_type": "execute_result"
    },
    {
     "data": {
      "image/png": "[encoded data removed]",
      "text/plain": [
       "<Figure size 640x480 with 1 Axes>"
      ]
     },
     "metadata": {},
     "output_type": "display_data"
    }
   ],
   "source": [
    "# creating histogram\n",
    "hist = df_instacart['prices'].plot.hist(bins = 25, color = 'indianred', rwidth = 0.7)\n",
    "plt.title('Price Variation in Orders', fontsize=14)\n",
    "plt.xlabel('Price (USD)', fontsize=10)\n",
    "plt.ylabel('Total Count of Orders', fontsize=10)\n",
    "plt.yticks([0, 500000, 1000000, 1500000, 2000000, 2500000, 3000000], ['0', '0.5 mil', '1 mil', '1.5 mil', '2 mil', '2.5 mil', '3 mil'])"
   ]
  },
  {
   "cell_type": "markdown",
   "id": "dc42fd8a",
   "metadata": {},
   "source": [
    "Note: I have decided I need charts regarding loyalty customer types and will look into adding this to the customer profile."
   ]
  },
  {
   "cell_type": "code",
   "execution_count": 9,
   "id": "2a03ac3c",
   "metadata": {},
   "outputs": [],
   "source": [
    "# creating time flag for order-frequency times of the day, based on previous charts from 4.10 charts part 1\n",
    "df_instacart.loc[(df_instacart['order_hour_of_day'] >= 0) & (df_instacart['order_hour_of_day'] < 6), 'time_flag'] = 'Morning Lull'\n",
    "df_instacart.loc[(df_instacart['order_hour_of_day'] >= 6) & (df_instacart['order_hour_of_day'] < 9), 'time_flag'] = 'Morning Rise'\n",
    "df_instacart.loc[(df_instacart['order_hour_of_day'] >= 9) & (df_instacart['order_hour_of_day'] < 17), 'time_flag'] = 'Peak'\n",
    "df_instacart.loc[(df_instacart['order_hour_of_day'] >= 18) & (df_instacart['order_hour_of_day'] <= 23), 'time_flag'] = 'Evening Fall'"
   ]
  },
  {
   "cell_type": "code",
   "execution_count": 10,
   "id": "a92ee5d3",
   "metadata": {},
   "outputs": [
    {
     "data": {
      "text/plain": [
       "Peak            21118071\n",
       "Evening Fall     5703141\n",
       "Morning Rise     2899665\n",
       "Morning Lull      596328\n",
       "Name: time_flag, dtype: int64"
      ]
     },
     "execution_count": 10,
     "metadata": {},
     "output_type": "execute_result"
    }
   ],
   "source": [
    "# checking work\n",
    "df_instacart['time_flag'].value_counts()"
   ]
  },
  {
   "cell_type": "code",
   "execution_count": 11,
   "id": "6710d891",
   "metadata": {},
   "outputs": [
    {
     "data": {
      "text/html": [
       "<div>\n",
       "<style scoped>\n",
       "    .dataframe tbody tr th:only-of-type {\n",
       "        vertical-align: middle;\n",
       "    }\n",
       "\n",
       "    .dataframe tbody tr th {\n",
       "        vertical-align: top;\n",
       "    }\n",
       "\n",
       "    .dataframe thead th {\n",
       "        text-align: right;\n",
       "    }\n",
       "</style>\n",
       "<table border=\"1\" class=\"dataframe\">\n",
       "  <thead>\n",
       "    <tr style=\"text-align: right;\">\n",
       "      <th></th>\n",
       "      <th>user_id</th>\n",
       "      <th>first_name</th>\n",
       "      <th>last_name</th>\n",
       "      <th>gender</th>\n",
       "      <th>state</th>\n",
       "      <th>age</th>\n",
       "      <th>date_joined</th>\n",
       "      <th>number_of_dependants</th>\n",
       "      <th>marital_status</th>\n",
       "      <th>income</th>\n",
       "      <th>order_id</th>\n",
       "      <th>eval_set</th>\n",
       "      <th>order_number</th>\n",
       "      <th>order_day_of_week</th>\n",
       "      <th>order_hour_of_day</th>\n",
       "      <th>days_since_last_order</th>\n",
       "      <th>product_id</th>\n",
       "      <th>add_to_cart_order</th>\n",
       "      <th>reordered</th>\n",
       "      <th>product_name</th>\n",
       "      <th>aisle_id</th>\n",
       "      <th>department_id</th>\n",
       "      <th>prices</th>\n",
       "      <th>price_range_loc</th>\n",
       "      <th>busiest_day</th>\n",
       "      <th>busiest_days</th>\n",
       "      <th>busiest_period_of_day</th>\n",
       "      <th>max_order</th>\n",
       "      <th>loyalty_flag</th>\n",
       "      <th>average_spent</th>\n",
       "      <th>spending_flag</th>\n",
       "      <th>median_orders</th>\n",
       "      <th>order_frequency_flag</th>\n",
       "      <th>_merge</th>\n",
       "      <th>time_flag</th>\n",
       "    </tr>\n",
       "  </thead>\n",
       "  <tbody>\n",
       "    <tr>\n",
       "      <th>0</th>\n",
       "      <td>26711</td>\n",
       "      <td>Deborah</td>\n",
       "      <td>Esquivel</td>\n",
       "      <td>Female</td>\n",
       "      <td>Missouri</td>\n",
       "      <td>48</td>\n",
       "      <td>1/1/2017</td>\n",
       "      <td>3</td>\n",
       "      <td>married</td>\n",
       "      <td>165665</td>\n",
       "      <td>2543867</td>\n",
       "      <td>prior</td>\n",
       "      <td>5</td>\n",
       "      <td>1</td>\n",
       "      <td>9</td>\n",
       "      <td>30.0</td>\n",
       "      <td>196</td>\n",
       "      <td>2</td>\n",
       "      <td>0</td>\n",
       "      <td>Soda</td>\n",
       "      <td>77</td>\n",
       "      <td>7</td>\n",
       "      <td>9.0</td>\n",
       "      <td>Mid-range</td>\n",
       "      <td>Regularly busy</td>\n",
       "      <td>Busiest days</td>\n",
       "      <td>Most orders</td>\n",
       "      <td>8</td>\n",
       "      <td>New customer</td>\n",
       "      <td>7.988889</td>\n",
       "      <td>Low spender</td>\n",
       "      <td>19.0</td>\n",
       "      <td>Regular customer</td>\n",
       "      <td>both</td>\n",
       "      <td>Peak</td>\n",
       "    </tr>\n",
       "    <tr>\n",
       "      <th>1</th>\n",
       "      <td>26711</td>\n",
       "      <td>Deborah</td>\n",
       "      <td>Esquivel</td>\n",
       "      <td>Female</td>\n",
       "      <td>Missouri</td>\n",
       "      <td>48</td>\n",
       "      <td>1/1/2017</td>\n",
       "      <td>3</td>\n",
       "      <td>married</td>\n",
       "      <td>165665</td>\n",
       "      <td>1285508</td>\n",
       "      <td>prior</td>\n",
       "      <td>7</td>\n",
       "      <td>5</td>\n",
       "      <td>15</td>\n",
       "      <td>11.0</td>\n",
       "      <td>196</td>\n",
       "      <td>1</td>\n",
       "      <td>1</td>\n",
       "      <td>Soda</td>\n",
       "      <td>77</td>\n",
       "      <td>7</td>\n",
       "      <td>9.0</td>\n",
       "      <td>Mid-range</td>\n",
       "      <td>Regularly busy</td>\n",
       "      <td>Regular days</td>\n",
       "      <td>Most orders</td>\n",
       "      <td>8</td>\n",
       "      <td>New customer</td>\n",
       "      <td>7.988889</td>\n",
       "      <td>Low spender</td>\n",
       "      <td>19.0</td>\n",
       "      <td>Regular customer</td>\n",
       "      <td>both</td>\n",
       "      <td>Peak</td>\n",
       "    </tr>\n",
       "    <tr>\n",
       "      <th>2</th>\n",
       "      <td>26711</td>\n",
       "      <td>Deborah</td>\n",
       "      <td>Esquivel</td>\n",
       "      <td>Female</td>\n",
       "      <td>Missouri</td>\n",
       "      <td>48</td>\n",
       "      <td>1/1/2017</td>\n",
       "      <td>3</td>\n",
       "      <td>married</td>\n",
       "      <td>165665</td>\n",
       "      <td>2578584</td>\n",
       "      <td>prior</td>\n",
       "      <td>8</td>\n",
       "      <td>1</td>\n",
       "      <td>15</td>\n",
       "      <td>10.0</td>\n",
       "      <td>196</td>\n",
       "      <td>2</td>\n",
       "      <td>1</td>\n",
       "      <td>Soda</td>\n",
       "      <td>77</td>\n",
       "      <td>7</td>\n",
       "      <td>9.0</td>\n",
       "      <td>Mid-range</td>\n",
       "      <td>Regularly busy</td>\n",
       "      <td>Busiest days</td>\n",
       "      <td>Most orders</td>\n",
       "      <td>8</td>\n",
       "      <td>New customer</td>\n",
       "      <td>7.988889</td>\n",
       "      <td>Low spender</td>\n",
       "      <td>19.0</td>\n",
       "      <td>Regular customer</td>\n",
       "      <td>both</td>\n",
       "      <td>Peak</td>\n",
       "    </tr>\n",
       "    <tr>\n",
       "      <th>3</th>\n",
       "      <td>26711</td>\n",
       "      <td>Deborah</td>\n",
       "      <td>Esquivel</td>\n",
       "      <td>Female</td>\n",
       "      <td>Missouri</td>\n",
       "      <td>48</td>\n",
       "      <td>1/1/2017</td>\n",
       "      <td>3</td>\n",
       "      <td>married</td>\n",
       "      <td>165665</td>\n",
       "      <td>423547</td>\n",
       "      <td>prior</td>\n",
       "      <td>2</td>\n",
       "      <td>2</td>\n",
       "      <td>9</td>\n",
       "      <td>14.0</td>\n",
       "      <td>38928</td>\n",
       "      <td>1</td>\n",
       "      <td>0</td>\n",
       "      <td>0% Greek Strained Yogurt</td>\n",
       "      <td>120</td>\n",
       "      <td>16</td>\n",
       "      <td>12.6</td>\n",
       "      <td>Mid-range</td>\n",
       "      <td>Regularly busy</td>\n",
       "      <td>Regular days</td>\n",
       "      <td>Most orders</td>\n",
       "      <td>8</td>\n",
       "      <td>New customer</td>\n",
       "      <td>7.988889</td>\n",
       "      <td>Low spender</td>\n",
       "      <td>19.0</td>\n",
       "      <td>Regular customer</td>\n",
       "      <td>both</td>\n",
       "      <td>Peak</td>\n",
       "    </tr>\n",
       "    <tr>\n",
       "      <th>4</th>\n",
       "      <td>26711</td>\n",
       "      <td>Deborah</td>\n",
       "      <td>Esquivel</td>\n",
       "      <td>Female</td>\n",
       "      <td>Missouri</td>\n",
       "      <td>48</td>\n",
       "      <td>1/1/2017</td>\n",
       "      <td>3</td>\n",
       "      <td>married</td>\n",
       "      <td>165665</td>\n",
       "      <td>2524893</td>\n",
       "      <td>prior</td>\n",
       "      <td>3</td>\n",
       "      <td>3</td>\n",
       "      <td>11</td>\n",
       "      <td>30.0</td>\n",
       "      <td>38928</td>\n",
       "      <td>1</td>\n",
       "      <td>1</td>\n",
       "      <td>0% Greek Strained Yogurt</td>\n",
       "      <td>120</td>\n",
       "      <td>16</td>\n",
       "      <td>12.6</td>\n",
       "      <td>Mid-range</td>\n",
       "      <td>Regularly busy</td>\n",
       "      <td>Slowest days</td>\n",
       "      <td>Most orders</td>\n",
       "      <td>8</td>\n",
       "      <td>New customer</td>\n",
       "      <td>7.988889</td>\n",
       "      <td>Low spender</td>\n",
       "      <td>19.0</td>\n",
       "      <td>Regular customer</td>\n",
       "      <td>both</td>\n",
       "      <td>Peak</td>\n",
       "    </tr>\n",
       "  </tbody>\n",
       "</table>\n",
       "</div>"
      ],
      "text/plain": [
       "  user_id first_name last_name  gender     state  age date_joined  \\\n",
       "0   26711    Deborah  Esquivel  Female  Missouri   48    1/1/2017   \n",
       "1   26711    Deborah  Esquivel  Female  Missouri   48    1/1/2017   \n",
       "2   26711    Deborah  Esquivel  Female  Missouri   48    1/1/2017   \n",
       "3   26711    Deborah  Esquivel  Female  Missouri   48    1/1/2017   \n",
       "4   26711    Deborah  Esquivel  Female  Missouri   48    1/1/2017   \n",
       "\n",
       "   number_of_dependants marital_status  income order_id eval_set  \\\n",
       "0                     3        married  165665  2543867    prior   \n",
       "1                     3        married  165665  1285508    prior   \n",
       "2                     3        married  165665  2578584    prior   \n",
       "3                     3        married  165665   423547    prior   \n",
       "4                     3        married  165665  2524893    prior   \n",
       "\n",
       "   order_number  order_day_of_week  order_hour_of_day  days_since_last_order  \\\n",
       "0             5                  1                  9                   30.0   \n",
       "1             7                  5                 15                   11.0   \n",
       "2             8                  1                 15                   10.0   \n",
       "3             2                  2                  9                   14.0   \n",
       "4             3                  3                 11                   30.0   \n",
       "\n",
       "   product_id  add_to_cart_order  reordered              product_name  \\\n",
       "0         196                  2          0                      Soda   \n",
       "1         196                  1          1                      Soda   \n",
       "2         196                  2          1                      Soda   \n",
       "3       38928                  1          0  0% Greek Strained Yogurt   \n",
       "4       38928                  1          1  0% Greek Strained Yogurt   \n",
       "\n",
       "   aisle_id  department_id  prices price_range_loc     busiest_day  \\\n",
       "0        77              7     9.0       Mid-range  Regularly busy   \n",
       "1        77              7     9.0       Mid-range  Regularly busy   \n",
       "2        77              7     9.0       Mid-range  Regularly busy   \n",
       "3       120             16    12.6       Mid-range  Regularly busy   \n",
       "4       120             16    12.6       Mid-range  Regularly busy   \n",
       "\n",
       "   busiest_days busiest_period_of_day  max_order  loyalty_flag  average_spent  \\\n",
       "0  Busiest days           Most orders          8  New customer       7.988889   \n",
       "1  Regular days           Most orders          8  New customer       7.988889   \n",
       "2  Busiest days           Most orders          8  New customer       7.988889   \n",
       "3  Regular days           Most orders          8  New customer       7.988889   \n",
       "4  Slowest days           Most orders          8  New customer       7.988889   \n",
       "\n",
       "  spending_flag  median_orders order_frequency_flag _merge time_flag  \n",
       "0   Low spender           19.0     Regular customer   both      Peak  \n",
       "1   Low spender           19.0     Regular customer   both      Peak  \n",
       "2   Low spender           19.0     Regular customer   both      Peak  \n",
       "3   Low spender           19.0     Regular customer   both      Peak  \n",
       "4   Low spender           19.0     Regular customer   both      Peak  "
      ]
     },
     "execution_count": 11,
     "metadata": {},
     "output_type": "execute_result"
    }
   ],
   "source": [
    "df_instacart.head()"
   ]
  },
  {
   "cell_type": "code",
   "execution_count": 12,
   "id": "aab4eef1",
   "metadata": {},
   "outputs": [
    {
     "data": {
      "text/plain": [
       "Regular customer    15876776\n",
       "Loyal customer      10284093\n",
       "New customer         6243990\n",
       "Name: loyalty_flag, dtype: int64"
      ]
     },
     "execution_count": 12,
     "metadata": {},
     "output_type": "execute_result"
    }
   ],
   "source": [
    "# checking counts of loyalty_flag column\n",
    "df_instacart['loyalty_flag'].value_counts()"
   ]
  },
  {
   "cell_type": "code",
   "execution_count": 13,
   "id": "7552d2f2",
   "metadata": {},
   "outputs": [],
   "source": [
    "# create mini dataframe of each loyalty flag\n",
    "df_new = df_instacart.loc[df_instacart['loyalty_flag'] == 'New customer']\n",
    "df_regular = df_instacart.loc[df_instacart['loyalty_flag'] == 'Regular customer']\n",
    "df_loyal = df_instacart.loc[df_instacart['loyalty_flag'] == 'Loyal customer']"
   ]
  },
  {
   "cell_type": "code",
   "execution_count": 14,
   "id": "2eb9b928",
   "metadata": {},
   "outputs": [
    {
     "data": {
      "text/plain": [
       "([<matplotlib.axis.XTick at 0x7fa617cde290>,\n",
       "  <matplotlib.axis.XTick at 0x7fa617cde260>,\n",
       "  <matplotlib.axis.XTick at 0x7fa6152d98a0>,\n",
       "  <matplotlib.axis.XTick at 0x7fa60fff3d60>,\n",
       "  <matplotlib.axis.XTick at 0x7fa5dc494bb0>,\n",
       "  <matplotlib.axis.XTick at 0x7fa60fff3bb0>,\n",
       "  <matplotlib.axis.XTick at 0x7fa5dc495930>,\n",
       "  <matplotlib.axis.XTick at 0x7fa6152d9780>],\n",
       " [Text(0, 0, '0'),\n",
       "  Text(3, 0, '3'),\n",
       "  Text(6, 0, '6'),\n",
       "  Text(9, 0, '9'),\n",
       "  Text(12, 0, '12'),\n",
       "  Text(15, 0, '15'),\n",
       "  Text(18, 0, '18'),\n",
       "  Text(21, 0, '21')])"
      ]
     },
     "execution_count": 14,
     "metadata": {},
     "output_type": "execute_result"
    },
    {
     "data": {
      "image/png": "[encoded data removed]",
      "text/plain": [
       "<Figure size 640x480 with 1 Axes>"
      ]
     },
     "metadata": {},
     "output_type": "display_data"
    }
   ],
   "source": [
    "# creating a histogram of orders over 24 hours of new customers\n",
    "hist_new = df_new['order_hour_of_day'].plot.hist(bins = 50, color = 'lightcoral')\n",
    "plt.title('Spending Habits of New Customers Over 24 hrs', fontsize=14)\n",
    "plt.xlabel('Hour of the Day (24 hr)', fontsize=10)\n",
    "plt.ylabel('Total Orders', fontsize=10)\n",
    "plt.xticks([0, 3, 6, 9, 12, 15, 18, 21])\n",
    "#plt.yticks([0, 500000, 1000000, 1500000, 2000000, 2500000, 3000000], ['0', '0.5 mil', '1 mil', '1.5 mil', '2 mil', '2.5 mil', '3 mil'])"
   ]
  },
  {
   "cell_type": "code",
   "execution_count": 15,
   "id": "1c373967",
   "metadata": {},
   "outputs": [
    {
     "data": {
      "text/plain": [
       "([<matplotlib.axis.YTick at 0x7fa55a079e40>,\n",
       "  <matplotlib.axis.YTick at 0x7fa55a0797e0>,\n",
       "  <matplotlib.axis.YTick at 0x7fa55a078820>,\n",
       "  <matplotlib.axis.YTick at 0x7fa53b5a6830>,\n",
       "  <matplotlib.axis.YTick at 0x7fa53b5a5660>,\n",
       "  <matplotlib.axis.YTick at 0x7fa53b5a7010>,\n",
       "  <matplotlib.axis.YTick at 0x7fa53b5a7ac0>,\n",
       "  <matplotlib.axis.YTick at 0x7fa539ad85b0>,\n",
       "  <matplotlib.axis.YTick at 0x7fa539ad9060>],\n",
       " [Text(0, 0, '0.0'),\n",
       "  Text(0, 200000, '0.2'),\n",
       "  Text(0, 400000, '0.4'),\n",
       "  Text(0, 600000, '0.6'),\n",
       "  Text(0, 800000, '0.8'),\n",
       "  Text(0, 1000000, '1.0'),\n",
       "  Text(0, 1200000, '1.2'),\n",
       "  Text(0, 1400000, '1.4'),\n",
       "  Text(0, 1600000, '1.6')])"
      ]
     },
     "execution_count": 15,
     "metadata": {},
     "output_type": "execute_result"
    },
    {
     "data": {
      "image/png": "[encoded data removed]",
      "text/plain": [
       "<Figure size 640x480 with 1 Axes>"
      ]
     },
     "metadata": {},
     "output_type": "display_data"
    }
   ],
   "source": [
    "# creating a histogram of orders over 24 hours of regular customers\n",
    "hist_regular = df_regular['order_hour_of_day'].plot.hist(bins = 50, color = 'brown')\n",
    "plt.title('Spending Habits of Regular Customers Over 24 hrs', fontsize=14)\n",
    "plt.xlabel('Hour of the Day (24 hr)', fontsize=10)\n",
    "plt.ylabel('Total Orders by Million', fontsize=10)\n",
    "plt.xticks([0, 3, 6, 9, 12, 15, 18, 21])\n",
    "plt.yticks([0, 200000, 400000, 600000, 800000, 1000000, 1200000, 1400000, 1600000])"
   ]
  },
  {
   "cell_type": "code",
   "execution_count": 24,
   "id": "bd135cb8",
   "metadata": {},
   "outputs": [
    {
     "data": {
      "text/plain": [
       "([<matplotlib.axis.XTick at 0x7fc5f89f7b20>,\n",
       "  <matplotlib.axis.XTick at 0x7fc5f89f7af0>,\n",
       "  <matplotlib.axis.XTick at 0x7fc59928b5b0>,\n",
       "  <matplotlib.axis.XTick at 0x7fc5945e5d20>,\n",
       "  <matplotlib.axis.XTick at 0x7fc5945e67d0>,\n",
       "  <matplotlib.axis.XTick at 0x7fc5945e7280>,\n",
       "  <matplotlib.axis.XTick at 0x7fc5945e7d30>,\n",
       "  <matplotlib.axis.XTick at 0x7fc5f89f7a00>],\n",
       " [Text(0, 0, '0'),\n",
       "  Text(3, 0, '3'),\n",
       "  Text(6, 0, '6'),\n",
       "  Text(9, 0, '9'),\n",
       "  Text(12, 0, '12'),\n",
       "  Text(15, 0, '15'),\n",
       "  Text(18, 0, '18'),\n",
       "  Text(21, 0, '21')])"
      ]
     },
     "execution_count": 24,
     "metadata": {},
     "output_type": "execute_result"
    },
    {
     "data": {
      "image/png": "[encoded data removed]",
      "text/plain": [
       "<Figure size 640x480 with 1 Axes>"
      ]
     },
     "metadata": {},
     "output_type": "display_data"
    }
   ],
   "source": [
    "# creating a histogram of orders over 24 hours of loyal customers\n",
    "hist_loyal = df_loyal['order_hour_of_day'].plot.hist(bins = 50, color = 'indianred')\n",
    "plt.title('Spending Habits of Loyal Customers Over 24 hrs', fontsize=14)\n",
    "plt.xlabel('Hour of the Day (24 hr)', fontsize=10)\n",
    "plt.ylabel('Total Orders', fontsize=10)\n",
    "plt.xticks([0, 3, 6, 9, 12, 15, 18, 21])"
   ]
  },
  {
   "cell_type": "code",
   "execution_count": 27,
   "id": "06268f31",
   "metadata": {},
   "outputs": [],
   "source": [
    "# import dataframe with departments\n",
    "df_dep = pd.read_csv(os.path.join(path, 'Data', 'Prepared Data', 'departments_wrangled.csv'))"
   ]
  },
  {
   "cell_type": "code",
   "execution_count": 28,
   "id": "5e96a69e",
   "metadata": {},
   "outputs": [],
   "source": [
    "# renaming column\n",
    "df_dep.rename(columns = {'Unnamed: 0': 'department_id'}, inplace = True)"
   ]
  },
  {
   "cell_type": "code",
   "execution_count": 30,
   "id": "0e8d110a",
   "metadata": {},
   "outputs": [],
   "source": [
    "# merging both dataframes\n",
    "df_merged = df_instacart.merge(df_dep, on = 'department_id')"
   ]
  },
  {
   "cell_type": "code",
   "execution_count": 31,
   "id": "0b4ae53a",
   "metadata": {},
   "outputs": [
    {
     "data": {
      "text/html": [
       "<div>\n",
       "<style scoped>\n",
       "    .dataframe tbody tr th:only-of-type {\n",
       "        vertical-align: middle;\n",
       "    }\n",
       "\n",
       "    .dataframe tbody tr th {\n",
       "        vertical-align: top;\n",
       "    }\n",
       "\n",
       "    .dataframe thead th {\n",
       "        text-align: right;\n",
       "    }\n",
       "</style>\n",
       "<table border=\"1\" class=\"dataframe\">\n",
       "  <thead>\n",
       "    <tr style=\"text-align: right;\">\n",
       "      <th></th>\n",
       "      <th>user_id</th>\n",
       "      <th>first_name</th>\n",
       "      <th>last_name</th>\n",
       "      <th>gender</th>\n",
       "      <th>state</th>\n",
       "      <th>age</th>\n",
       "      <th>date_joined</th>\n",
       "      <th>number_of_dependants</th>\n",
       "      <th>marital_status</th>\n",
       "      <th>income</th>\n",
       "      <th>order_id</th>\n",
       "      <th>eval_set</th>\n",
       "      <th>order_number</th>\n",
       "      <th>order_day_of_week</th>\n",
       "      <th>order_hour_of_day</th>\n",
       "      <th>days_since_last_order</th>\n",
       "      <th>product_id</th>\n",
       "      <th>add_to_cart_order</th>\n",
       "      <th>reordered</th>\n",
       "      <th>product_name</th>\n",
       "      <th>aisle_id</th>\n",
       "      <th>department_id</th>\n",
       "      <th>prices</th>\n",
       "      <th>price_range_loc</th>\n",
       "      <th>busiest_day</th>\n",
       "      <th>busiest_days</th>\n",
       "      <th>busiest_period_of_day</th>\n",
       "      <th>max_order</th>\n",
       "      <th>loyalty_flag</th>\n",
       "      <th>average_spent</th>\n",
       "      <th>spending_flag</th>\n",
       "      <th>median_orders</th>\n",
       "      <th>order_frequency_flag</th>\n",
       "      <th>_merge</th>\n",
       "      <th>time_flag</th>\n",
       "      <th>department</th>\n",
       "    </tr>\n",
       "  </thead>\n",
       "  <tbody>\n",
       "    <tr>\n",
       "      <th>0</th>\n",
       "      <td>26711</td>\n",
       "      <td>Deborah</td>\n",
       "      <td>Esquivel</td>\n",
       "      <td>Female</td>\n",
       "      <td>Missouri</td>\n",
       "      <td>48</td>\n",
       "      <td>1/1/2017</td>\n",
       "      <td>3</td>\n",
       "      <td>married</td>\n",
       "      <td>165665</td>\n",
       "      <td>2543867</td>\n",
       "      <td>prior</td>\n",
       "      <td>5</td>\n",
       "      <td>1</td>\n",
       "      <td>9</td>\n",
       "      <td>30.0</td>\n",
       "      <td>196</td>\n",
       "      <td>2</td>\n",
       "      <td>0</td>\n",
       "      <td>Soda</td>\n",
       "      <td>77</td>\n",
       "      <td>7</td>\n",
       "      <td>9.0</td>\n",
       "      <td>Mid-range</td>\n",
       "      <td>Regularly busy</td>\n",
       "      <td>Busiest days</td>\n",
       "      <td>Most orders</td>\n",
       "      <td>8</td>\n",
       "      <td>New customer</td>\n",
       "      <td>7.988889</td>\n",
       "      <td>Low spender</td>\n",
       "      <td>19.0</td>\n",
       "      <td>Regular customer</td>\n",
       "      <td>both</td>\n",
       "      <td>Peak</td>\n",
       "      <td>beverages</td>\n",
       "    </tr>\n",
       "    <tr>\n",
       "      <th>1</th>\n",
       "      <td>26711</td>\n",
       "      <td>Deborah</td>\n",
       "      <td>Esquivel</td>\n",
       "      <td>Female</td>\n",
       "      <td>Missouri</td>\n",
       "      <td>48</td>\n",
       "      <td>1/1/2017</td>\n",
       "      <td>3</td>\n",
       "      <td>married</td>\n",
       "      <td>165665</td>\n",
       "      <td>1285508</td>\n",
       "      <td>prior</td>\n",
       "      <td>7</td>\n",
       "      <td>5</td>\n",
       "      <td>15</td>\n",
       "      <td>11.0</td>\n",
       "      <td>196</td>\n",
       "      <td>1</td>\n",
       "      <td>1</td>\n",
       "      <td>Soda</td>\n",
       "      <td>77</td>\n",
       "      <td>7</td>\n",
       "      <td>9.0</td>\n",
       "      <td>Mid-range</td>\n",
       "      <td>Regularly busy</td>\n",
       "      <td>Regular days</td>\n",
       "      <td>Most orders</td>\n",
       "      <td>8</td>\n",
       "      <td>New customer</td>\n",
       "      <td>7.988889</td>\n",
       "      <td>Low spender</td>\n",
       "      <td>19.0</td>\n",
       "      <td>Regular customer</td>\n",
       "      <td>both</td>\n",
       "      <td>Peak</td>\n",
       "      <td>beverages</td>\n",
       "    </tr>\n",
       "    <tr>\n",
       "      <th>2</th>\n",
       "      <td>26711</td>\n",
       "      <td>Deborah</td>\n",
       "      <td>Esquivel</td>\n",
       "      <td>Female</td>\n",
       "      <td>Missouri</td>\n",
       "      <td>48</td>\n",
       "      <td>1/1/2017</td>\n",
       "      <td>3</td>\n",
       "      <td>married</td>\n",
       "      <td>165665</td>\n",
       "      <td>2578584</td>\n",
       "      <td>prior</td>\n",
       "      <td>8</td>\n",
       "      <td>1</td>\n",
       "      <td>15</td>\n",
       "      <td>10.0</td>\n",
       "      <td>196</td>\n",
       "      <td>2</td>\n",
       "      <td>1</td>\n",
       "      <td>Soda</td>\n",
       "      <td>77</td>\n",
       "      <td>7</td>\n",
       "      <td>9.0</td>\n",
       "      <td>Mid-range</td>\n",
       "      <td>Regularly busy</td>\n",
       "      <td>Busiest days</td>\n",
       "      <td>Most orders</td>\n",
       "      <td>8</td>\n",
       "      <td>New customer</td>\n",
       "      <td>7.988889</td>\n",
       "      <td>Low spender</td>\n",
       "      <td>19.0</td>\n",
       "      <td>Regular customer</td>\n",
       "      <td>both</td>\n",
       "      <td>Peak</td>\n",
       "      <td>beverages</td>\n",
       "    </tr>\n",
       "    <tr>\n",
       "      <th>3</th>\n",
       "      <td>33890</td>\n",
       "      <td>Patricia</td>\n",
       "      <td>Hart</td>\n",
       "      <td>Female</td>\n",
       "      <td>New Mexico</td>\n",
       "      <td>36</td>\n",
       "      <td>1/1/2017</td>\n",
       "      <td>0</td>\n",
       "      <td>single</td>\n",
       "      <td>59285</td>\n",
       "      <td>1044841</td>\n",
       "      <td>prior</td>\n",
       "      <td>3</td>\n",
       "      <td>6</td>\n",
       "      <td>11</td>\n",
       "      <td>30.0</td>\n",
       "      <td>196</td>\n",
       "      <td>1</td>\n",
       "      <td>0</td>\n",
       "      <td>Soda</td>\n",
       "      <td>77</td>\n",
       "      <td>7</td>\n",
       "      <td>9.0</td>\n",
       "      <td>Mid-range</td>\n",
       "      <td>Regularly busy</td>\n",
       "      <td>Regular days</td>\n",
       "      <td>Most orders</td>\n",
       "      <td>12</td>\n",
       "      <td>Regular customer</td>\n",
       "      <td>7.057534</td>\n",
       "      <td>Low spender</td>\n",
       "      <td>26.0</td>\n",
       "      <td>Non-frequent customer</td>\n",
       "      <td>both</td>\n",
       "      <td>Peak</td>\n",
       "      <td>beverages</td>\n",
       "    </tr>\n",
       "    <tr>\n",
       "      <th>4</th>\n",
       "      <td>33890</td>\n",
       "      <td>Patricia</td>\n",
       "      <td>Hart</td>\n",
       "      <td>Female</td>\n",
       "      <td>New Mexico</td>\n",
       "      <td>36</td>\n",
       "      <td>1/1/2017</td>\n",
       "      <td>0</td>\n",
       "      <td>single</td>\n",
       "      <td>59285</td>\n",
       "      <td>474720</td>\n",
       "      <td>prior</td>\n",
       "      <td>4</td>\n",
       "      <td>1</td>\n",
       "      <td>20</td>\n",
       "      <td>16.0</td>\n",
       "      <td>196</td>\n",
       "      <td>6</td>\n",
       "      <td>1</td>\n",
       "      <td>Soda</td>\n",
       "      <td>77</td>\n",
       "      <td>7</td>\n",
       "      <td>9.0</td>\n",
       "      <td>Mid-range</td>\n",
       "      <td>Regularly busy</td>\n",
       "      <td>Busiest days</td>\n",
       "      <td>Average orders</td>\n",
       "      <td>12</td>\n",
       "      <td>Regular customer</td>\n",
       "      <td>7.057534</td>\n",
       "      <td>Low spender</td>\n",
       "      <td>26.0</td>\n",
       "      <td>Non-frequent customer</td>\n",
       "      <td>both</td>\n",
       "      <td>Evening Fall</td>\n",
       "      <td>beverages</td>\n",
       "    </tr>\n",
       "  </tbody>\n",
       "</table>\n",
       "</div>"
      ],
      "text/plain": [
       "  user_id first_name last_name  gender       state  age date_joined  \\\n",
       "0   26711    Deborah  Esquivel  Female    Missouri   48    1/1/2017   \n",
       "1   26711    Deborah  Esquivel  Female    Missouri   48    1/1/2017   \n",
       "2   26711    Deborah  Esquivel  Female    Missouri   48    1/1/2017   \n",
       "3   33890   Patricia      Hart  Female  New Mexico   36    1/1/2017   \n",
       "4   33890   Patricia      Hart  Female  New Mexico   36    1/1/2017   \n",
       "\n",
       "   number_of_dependants marital_status  income order_id eval_set  \\\n",
       "0                     3        married  165665  2543867    prior   \n",
       "1                     3        married  165665  1285508    prior   \n",
       "2                     3        married  165665  2578584    prior   \n",
       "3                     0         single   59285  1044841    prior   \n",
       "4                     0         single   59285   474720    prior   \n",
       "\n",
       "   order_number  order_day_of_week  order_hour_of_day  days_since_last_order  \\\n",
       "0             5                  1                  9                   30.0   \n",
       "1             7                  5                 15                   11.0   \n",
       "2             8                  1                 15                   10.0   \n",
       "3             3                  6                 11                   30.0   \n",
       "4             4                  1                 20                   16.0   \n",
       "\n",
       "   product_id  add_to_cart_order  reordered product_name  aisle_id  \\\n",
       "0         196                  2          0         Soda        77   \n",
       "1         196                  1          1         Soda        77   \n",
       "2         196                  2          1         Soda        77   \n",
       "3         196                  1          0         Soda        77   \n",
       "4         196                  6          1         Soda        77   \n",
       "\n",
       "   department_id  prices price_range_loc     busiest_day  busiest_days  \\\n",
       "0              7     9.0       Mid-range  Regularly busy  Busiest days   \n",
       "1              7     9.0       Mid-range  Regularly busy  Regular days   \n",
       "2              7     9.0       Mid-range  Regularly busy  Busiest days   \n",
       "3              7     9.0       Mid-range  Regularly busy  Regular days   \n",
       "4              7     9.0       Mid-range  Regularly busy  Busiest days   \n",
       "\n",
       "  busiest_period_of_day  max_order      loyalty_flag  average_spent  \\\n",
       "0           Most orders          8      New customer       7.988889   \n",
       "1           Most orders          8      New customer       7.988889   \n",
       "2           Most orders          8      New customer       7.988889   \n",
       "3           Most orders         12  Regular customer       7.057534   \n",
       "4        Average orders         12  Regular customer       7.057534   \n",
       "\n",
       "  spending_flag  median_orders   order_frequency_flag _merge     time_flag  \\\n",
       "0   Low spender           19.0       Regular customer   both          Peak   \n",
       "1   Low spender           19.0       Regular customer   both          Peak   \n",
       "2   Low spender           19.0       Regular customer   both          Peak   \n",
       "3   Low spender           26.0  Non-frequent customer   both          Peak   \n",
       "4   Low spender           26.0  Non-frequent customer   both  Evening Fall   \n",
       "\n",
       "  department  \n",
       "0  beverages  \n",
       "1  beverages  \n",
       "2  beverages  \n",
       "3  beverages  \n",
       "4  beverages  "
      ]
     },
     "execution_count": 31,
     "metadata": {},
     "output_type": "execute_result"
    }
   ],
   "source": [
    "df_merged.head()"
   ]
  },
  {
   "cell_type": "code",
   "execution_count": 33,
   "id": "81475e16",
   "metadata": {},
   "outputs": [],
   "source": [
    "# creating crosstab of loyalty_flag and departments\n",
    "crosstab_loyalty_dep = pd.crosstab(df_merged['department'], df_merged['loyalty_flag'], dropna = False)"
   ]
  },
  {
   "cell_type": "code",
   "execution_count": 37,
   "id": "a0b2e9ff",
   "metadata": {},
   "outputs": [
    {
     "data": {
      "image/png": "[encoded data removed]",
      "text/plain": [
       "<Figure size 640x480 with 1 Axes>"
      ]
     },
     "metadata": {},
     "output_type": "display_data"
    }
   ],
   "source": [
    "# creating stacked bar chart for crosstab\n",
    "bar_dep_loyalty = crosstab_loyalty_dep.plot.barh(stacked = True, color = ['brown', 'indianred', 'lightcoral'])\n",
    "plt.title('Customer Loyalty by Department')\n",
    "plt.xticks([0, 1000000, 2000000, 3000000, 4000000, 5000000, 6000000, 7000000, 8000000, 9000000, 10000000], [0, 1, 2, 3, 4, 5, 6, 7, 8, 9, 10])\n",
    "plt.xlabel('Total Orders by Million')\n",
    "plt.ylabel('')\n",
    "plt.show()"
   ]
  },
  {
   "cell_type": "code",
   "execution_count": 39,
   "id": "80184034",
   "metadata": {},
   "outputs": [
    {
     "data": {
      "text/plain": [
       "Regular customer    15876776\n",
       "Loyal customer      10284093\n",
       "New customer         6243990\n",
       "Name: loyalty_flag, dtype: int64"
      ]
     },
     "execution_count": 39,
     "metadata": {},
     "output_type": "execute_result"
    }
   ],
   "source": [
    "# checking value counts for loyalty_flag\n",
    "df_instacart['loyalty_flag'].value_counts()"
   ]
  },
  {
   "cell_type": "code",
   "execution_count": 51,
   "id": "7301b862",
   "metadata": {},
   "outputs": [
    {
     "data": {
      "text/plain": [
       "([<matplotlib.axis.XTick at 0x7fbd186b9e10>,\n",
       "  <matplotlib.axis.XTick at 0x7fbd186b9de0>,\n",
       "  <matplotlib.axis.XTick at 0x7fbd48d08220>,\n",
       "  <matplotlib.axis.XTick at 0x7fbd68d24d60>,\n",
       "  <matplotlib.axis.XTick at 0x7fbd68d25810>,\n",
       "  <matplotlib.axis.XTick at 0x7fbd68d262c0>,\n",
       "  <matplotlib.axis.XTick at 0x7fbd68d0fcd0>,\n",
       "  <matplotlib.axis.XTick at 0x7fbd68d26b30>,\n",
       "  <matplotlib.axis.XTick at 0x7fbd68d275e0>,\n",
       "  <matplotlib.axis.XTick at 0x7fbd68d27d30>,\n",
       "  <matplotlib.axis.XTick at 0x7fbd68d3cb80>],\n",
       " [Text(0, 0, '0'),\n",
       "  Text(2000000, 0, '2'),\n",
       "  Text(4000000, 0, '4'),\n",
       "  Text(6000000, 0, '6'),\n",
       "  Text(8000000, 0, '8'),\n",
       "  Text(10000000, 0, '10'),\n",
       "  Text(12000000, 0, '12'),\n",
       "  Text(14000000, 0, '14'),\n",
       "  Text(16000000, 0, '16'),\n",
       "  Text(18000000, 0, '18'),\n",
       "  Text(20000000, 0, '20')])"
      ]
     },
     "execution_count": 51,
     "metadata": {},
     "output_type": "execute_result"
    },
    {
     "data": {
      "image/png": "[encoded data removed]",
      "text/plain": [
       "<Figure size 640x480 with 1 Axes>"
      ]
     },
     "metadata": {},
     "output_type": "display_data"
    }
   ],
   "source": [
    "# recreating loyalty bar chart from earlier lesson to edit labels\n",
    "loyalty_chart = df_instacart['loyalty_flag'].value_counts().plot.barh(color = ['brown', 'indianred', 'lightcoral'])\n",
    "plt.title('Customer Types', fontsize=14)\n",
    "plt.xlabel('Total Customers by Million')\n",
    "plt.xticks([0, 2000000, 4000000, 6000000, 8000000, 10000000, 12000000, 14000000, 16000000, 18000000, 20000000], [0, 2, 4, 6, 8, 10, 12, 14, 16, 18, 20])"
   ]
  },
  {
   "cell_type": "code",
   "execution_count": null,
   "id": "e9ed6bad",
   "metadata": {},
   "outputs": [],
   "source": []
  }
 ],
 "metadata": {
  "kernelspec": {
   "display_name": "Python 3 (ipykernel)",
   "language": "python",
   "name": "python3"
  },
  "language_info": {
   "codemirror_mode": {
    "name": "ipython",
    "version": 3
   },
   "file_extension": ".py",
   "mimetype": "text/x-python",
   "name": "python",
   "nbconvert_exporter": "python",
   "pygments_lexer": "ipython3",
   "version": "3.10.9"
  }
 },
 "nbformat": 4,
 "nbformat_minor": 5
}
