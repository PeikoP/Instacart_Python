{
 "cells": [
  {
   "cell_type": "markdown",
   "id": "720963e0",
   "metadata": {},
   "source": [
    "# 01. Importing Libraries"
   ]
  },
  {
   "cell_type": "code",
   "execution_count": 1,
   "id": "5b0e8db4",
   "metadata": {},
   "outputs": [],
   "source": [
    "#Import Libraries\n",
    "import pandas as pd\n",
    "import numpy as np\n",
    "import os"
   ]
  },
  {
   "cell_type": "markdown",
   "id": "dc46212b",
   "metadata": {},
   "source": [
    "# 02. Working With Python Data Types"
   ]
  },
  {
   "cell_type": "code",
   "execution_count": 3,
   "id": "134650e9",
   "metadata": {},
   "outputs": [],
   "source": [
    "a = 40"
   ]
  },
  {
   "cell_type": "code",
   "execution_count": 4,
   "id": "482eb035",
   "metadata": {},
   "outputs": [],
   "source": [
    "b = 60"
   ]
  },
  {
   "cell_type": "code",
   "execution_count": 5,
   "id": "124ef7cd",
   "metadata": {},
   "outputs": [],
   "source": [
    "c = 5"
   ]
  },
  {
   "cell_type": "code",
   "execution_count": 6,
   "id": "07c5d539",
   "metadata": {},
   "outputs": [
    {
     "data": {
      "text/plain": [
       "100"
      ]
     },
     "execution_count": 6,
     "metadata": {},
     "output_type": "execute_result"
    }
   ],
   "source": [
    "a + b"
   ]
  },
  {
   "cell_type": "code",
   "execution_count": 7,
   "id": "814d16a9",
   "metadata": {},
   "outputs": [
    {
     "data": {
      "text/plain": [
       "100"
      ]
     },
     "execution_count": 7,
     "metadata": {},
     "output_type": "execute_result"
    }
   ],
   "source": [
    "c * 20"
   ]
  },
  {
   "cell_type": "code",
   "execution_count": 8,
   "id": "7aa3bfc9",
   "metadata": {},
   "outputs": [
    {
     "data": {
      "text/plain": [
       "100.0"
      ]
     },
     "execution_count": 8,
     "metadata": {},
     "output_type": "execute_result"
    }
   ],
   "source": [
    "500 / c"
   ]
  },
  {
   "cell_type": "code",
   "execution_count": 9,
   "id": "73e2550c",
   "metadata": {},
   "outputs": [],
   "source": [
    "d = 4.4"
   ]
  },
  {
   "cell_type": "code",
   "execution_count": 10,
   "id": "586a534a",
   "metadata": {},
   "outputs": [],
   "source": [
    "e = 3.3"
   ]
  },
  {
   "cell_type": "code",
   "execution_count": 11,
   "id": "2129c39d",
   "metadata": {},
   "outputs": [
    {
     "data": {
      "text/plain": [
       "1.3333333333333335"
      ]
     },
     "execution_count": 11,
     "metadata": {},
     "output_type": "execute_result"
    }
   ],
   "source": [
    "d / e"
   ]
  },
  {
   "cell_type": "code",
   "execution_count": 12,
   "id": "7429bad9",
   "metadata": {},
   "outputs": [],
   "source": [
    "f = 'Mor'"
   ]
  },
  {
   "cell_type": "code",
   "execution_count": 13,
   "id": "c19b4e95",
   "metadata": {},
   "outputs": [],
   "source": [
    "g = 'tala'"
   ]
  },
  {
   "cell_type": "code",
   "execution_count": 14,
   "id": "168330af",
   "metadata": {},
   "outputs": [
    {
     "data": {
      "text/plain": [
       "'Mortala'"
      ]
     },
     "execution_count": 14,
     "metadata": {},
     "output_type": "execute_result"
    }
   ],
   "source": [
    "f + g"
   ]
  },
  {
   "cell_type": "code",
   "execution_count": 22,
   "id": "1fde9d23",
   "metadata": {},
   "outputs": [],
   "source": [
    "h = ' I like '"
   ]
  },
  {
   "cell_type": "code",
   "execution_count": 23,
   "id": "69b17973",
   "metadata": {},
   "outputs": [],
   "source": [
    "i = 'coding.'"
   ]
  },
  {
   "cell_type": "code",
   "execution_count": 24,
   "id": "3c6eccd6",
   "metadata": {},
   "outputs": [
    {
     "data": {
      "text/plain": [
       "' I like coding.'"
      ]
     },
     "execution_count": 24,
     "metadata": {},
     "output_type": "execute_result"
    }
   ],
   "source": [
    "h + i"
   ]
  },
  {
   "cell_type": "code",
   "execution_count": 21,
   "id": "12b71699",
   "metadata": {},
   "outputs": [
    {
     "data": {
      "text/plain": [
       "'I like coding. I like coding. I like coding. I like coding. I like coding. I like coding. I like coding. I like coding. I like coding. I like coding. I like coding. I like coding. I like coding. I like coding. I like coding. I like coding. I like coding. I like coding. I like coding. I like coding. I like coding. I like coding. I like coding. I like coding. I like coding. I like coding. I like coding. I like coding. I like coding. I like coding. I like coding. I like coding. I like coding. I like coding. I like coding. I like coding. I like coding. I like coding. I like coding. I like coding. I like coding. I like coding. I like coding. I like coding. I like coding. I like coding. I like coding. I like coding. I like coding. I like coding. I like coding. I like coding. I like coding. I like coding. I like coding. I like coding. I like coding. I like coding. I like coding. I like coding. I like coding. I like coding. I like coding. I like coding. I like coding. I like coding. I like coding. I like coding. I like coding. I like coding. I like coding. I like coding. I like coding. I like coding. I like coding. I like coding. I like coding. I like coding. I like coding. I like coding. I like coding. I like coding. I like coding. I like coding. I like coding. I like coding. I like coding. I like coding. I like coding. I like coding. I like coding. I like coding. I like coding. I like coding. I like coding. I like coding. I like coding. I like coding. I like coding. I like coding. '"
      ]
     },
     "execution_count": 21,
     "metadata": {},
     "output_type": "execute_result"
    }
   ],
   "source": [
    "(h +i)*100"
   ]
  },
  {
   "cell_type": "code",
   "execution_count": null,
   "id": "1c5276c2",
   "metadata": {},
   "outputs": [],
   "source": []
  }
 ],
 "metadata": {
  "kernelspec": {
   "display_name": "Python 3 (ipykernel)",
   "language": "python",
   "name": "python3"
  },
  "language_info": {
   "codemirror_mode": {
    "name": "ipython",
    "version": 3
   },
   "file_extension": ".py",
   "mimetype": "text/x-python",
   "name": "python",
   "nbconvert_exporter": "python",
   "pygments_lexer": "ipython3",
   "version": "3.10.9"
  }
 },
 "nbformat": 4,
 "nbformat_minor": 5
}
